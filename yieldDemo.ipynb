{
 "cells": [
  {
   "cell_type": "markdown",
   "metadata": {},
   "source": [
    "Note:Generator throws an exception if it can not yield"
   ]
  },
  {
   "cell_type": "code",
   "execution_count": 23,
   "metadata": {},
   "outputs": [],
   "source": [
    "def keepPrinting():\n",
    "    yield \"Hi1\"\n",
    "    yield \"Hi2\"\n",
    "    yield \"Hi3\""
   ]
  },
  {
   "cell_type": "code",
   "execution_count": 25,
   "metadata": {},
   "outputs": [
    {
     "name": "stdout",
     "output_type": "stream",
     "text": [
      "Hi1\n",
      "Hi2\n",
      "Hi3\n"
     ]
    }
   ],
   "source": [
    "msg=keepPrinting()\n",
    "x=next(msg)\n",
    "print(x)\n",
    "x=next(msg)\n",
    "print(x)\n",
    "x=next(msg)\n",
    "print(x)"
   ]
  },
  {
   "cell_type": "code",
   "execution_count": 26,
   "metadata": {},
   "outputs": [
    {
     "ename": "StopIteration",
     "evalue": "",
     "output_type": "error",
     "traceback": [
      "\u001b[0;31m---------------------------------------------------------------------------\u001b[0m",
      "\u001b[0;31mStopIteration\u001b[0m                             Traceback (most recent call last)",
      "\u001b[0;32m<ipython-input-26-0043e999f3e9>\u001b[0m in \u001b[0;36m<module>\u001b[0;34m\u001b[0m\n\u001b[0;32m----> 1\u001b[0;31m \u001b[0mx\u001b[0m\u001b[0;34m=\u001b[0m\u001b[0mnext\u001b[0m\u001b[0;34m(\u001b[0m\u001b[0mmsg\u001b[0m\u001b[0;34m)\u001b[0m\u001b[0;34m\u001b[0m\u001b[0;34m\u001b[0m\u001b[0m\n\u001b[0m\u001b[1;32m      2\u001b[0m \u001b[0mprint\u001b[0m\u001b[0;34m(\u001b[0m\u001b[0mx\u001b[0m\u001b[0;34m)\u001b[0m\u001b[0;34m\u001b[0m\u001b[0;34m\u001b[0m\u001b[0m\n",
      "\u001b[0;31mStopIteration\u001b[0m: "
     ]
    }
   ],
   "source": [
    "x=next(msg) #will throw an exeption\n",
    "print(x)    "
   ]
  },
  {
   "cell_type": "code",
   "execution_count": 1,
   "metadata": {},
   "outputs": [],
   "source": [
    "def keepPrinting():\n",
    "    k=0\n",
    "    while True:\n",
    "        yield k\n",
    "        k=k+1\n",
    "        "
   ]
  },
  {
   "cell_type": "code",
   "execution_count": 2,
   "metadata": {},
   "outputs": [
    {
     "name": "stdout",
     "output_type": "stream",
     "text": [
      "<class 'function'>\n",
      "<class 'generator'>\n"
     ]
    }
   ],
   "source": [
    "numGenerator=keepPrinting()\n",
    "print(type(keepPrinting))\n",
    "print(type(numGenerator))\n",
    "\n"
   ]
  },
  {
   "cell_type": "code",
   "execution_count": 4,
   "metadata": {},
   "outputs": [
    {
     "name": "stdout",
     "output_type": "stream",
     "text": [
      "1\n",
      "2\n",
      "3\n",
      "4\n"
     ]
    }
   ],
   "source": [
    "num=next(numGenerator)\n",
    "print(num)\n",
    "num=next(numGenerator)\n",
    "print(num)\n",
    "num=next(numGenerator)\n",
    "print(num)\n",
    "num=next(numGenerator)\n",
    "print(num)\n"
   ]
  },
  {
   "cell_type": "code",
   "execution_count": 21,
   "metadata": {},
   "outputs": [],
   "source": [
    "def fibonacci(n):\n",
    "    curr = 1\n",
    "    prev = 0\n",
    "    counter = 0\n",
    "    while True:\n",
    "        while counter < n:\n",
    "                yield curr\n",
    "                prev, curr = curr, prev + curr\n",
    "                counter += 1\n",
    "        yield None        \n",
    "\n",
    "            "
   ]
  },
  {
   "cell_type": "code",
   "execution_count": 22,
   "metadata": {},
   "outputs": [
    {
     "name": "stdout",
     "output_type": "stream",
     "text": [
      "1\n",
      "1\n",
      "2\n",
      "3\n",
      "5\n",
      "8\n",
      "13\n",
      "21\n",
      "34\n",
      "None\n",
      "None\n",
      "None\n"
     ]
    }
   ],
   "source": [
    "numGenerator=fibonacci(9)\n",
    "num=next(numGenerator)\n",
    "print(num)\n",
    "num=next(numGenerator)\n",
    "print(num)\n",
    "num=next(numGenerator)\n",
    "print(num)\n",
    "num=next(numGenerator)\n",
    "print(num)\n",
    "num=next(numGenerator)\n",
    "print(num)\n",
    "num=next(numGenerator)\n",
    "print(num)\n",
    "num=next(numGenerator)\n",
    "print(num)\n",
    "num=next(numGenerator)\n",
    "print(num)\n",
    "num=next(numGenerator)\n",
    "print(num)\n",
    "num=next(numGenerator)\n",
    "print(num)\n",
    "num=next(numGenerator)\n",
    "print(num)\n",
    "num=next(numGenerator)\n",
    "print(num)\n"
   ]
  },
  {
   "cell_type": "code",
   "execution_count": null,
   "metadata": {},
   "outputs": [],
   "source": []
  },
  {
   "cell_type": "code",
   "execution_count": null,
   "metadata": {},
   "outputs": [],
   "source": []
  }
 ],
 "metadata": {
  "kernelspec": {
   "display_name": "Python 3",
   "language": "python",
   "name": "python3"
  },
  "language_info": {
   "codemirror_mode": {
    "name": "ipython",
    "version": 3
   },
   "file_extension": ".py",
   "mimetype": "text/x-python",
   "name": "python",
   "nbconvert_exporter": "python",
   "pygments_lexer": "ipython3",
   "version": "3.6.8"
  }
 },
 "nbformat": 4,
 "nbformat_minor": 2
}
